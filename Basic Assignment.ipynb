{
 "cells": [
  {
   "cell_type": "markdown",
   "id": "5370f0c3",
   "metadata": {},
   "source": [
    "1. WAP to take 10 numbers from a user and store them in a list."
   ]
  },
  {
   "cell_type": "code",
   "execution_count": 3,
   "id": "980bf543",
   "metadata": {},
   "outputs": [
    {
     "name": "stdout",
     "output_type": "stream",
     "text": [
      "Enter a number: 5\n",
      "Enter a number: 1\n",
      "Enter a number: 4\n",
      "Enter a number: 5\n",
      "Enter a number: 6\n",
      "Enter a number: 8\n",
      "Enter a number: 10\n",
      "Enter a number: 55\n",
      "Enter a number: 63\n",
      "Enter a number: 14\n",
      "[5, 1, 4, 5, 6, 8, 10, 55, 63, 14]\n"
     ]
    }
   ],
   "source": [
    "l = []\n",
    "for i in range(10):\n",
    "    number = int(input(\"Enter a number: \"))\n",
    "    l.append(number)\n",
    "print(l)"
   ]
  },
  {
   "cell_type": "markdown",
   "id": "ea035960",
   "metadata": {},
   "source": [
    "2. Display numbers divisible by 5 from a list.\n"
   ]
  },
  {
   "cell_type": "code",
   "execution_count": 6,
   "id": "8e1ee26b",
   "metadata": {},
   "outputs": [
    {
     "name": "stdout",
     "output_type": "stream",
     "text": [
      "Numbers divisible by 5 listed below: \n",
      "5\n",
      "10\n",
      "45\n",
      "250\n",
      "500\n",
      "30\n"
     ]
    }
   ],
   "source": [
    "lst = [5, 13, 24, 10, 45, 28, 250, 478, 500, 67, 263, 30]\n",
    "print(\"Numbers divisible by 5 listed below: \")\n",
    "for i in range(0, len(lst)):\n",
    "    if lst[i] % 5 == 0:\n",
    "        print(lst[i])\n",
    "    "
   ]
  },
  {
   "cell_type": "markdown",
   "id": "05781644",
   "metadata": {},
   "source": [
    "3. WAP to calculate the count of elements in a string taken as input from the user.\n"
   ]
  },
  {
   "cell_type": "code",
   "execution_count": 12,
   "id": "e9e4260c",
   "metadata": {},
   "outputs": [
    {
     "name": "stdout",
     "output_type": "stream",
     "text": [
      "Enter the string value: NehaArora\n",
      "No. of elements present in the string:  9\n"
     ]
    }
   ],
   "source": [
    "str1 = input(\"Enter the string value: \")\n",
    "count = 0\n",
    "for i in range(0,len(str1)):\n",
    "    if str1[i] != ' ':\n",
    "        count += 1;\n",
    "print(\"No. of elements present in the string: \", count)\n"
   ]
  },
  {
   "cell_type": "markdown",
   "id": "f6706430",
   "metadata": {},
   "source": [
    "4. WAP to check if a number is even or odd where number is taken as input.\n"
   ]
  },
  {
   "cell_type": "code",
   "execution_count": 13,
   "id": "b4a0e6b4",
   "metadata": {},
   "outputs": [
    {
     "name": "stdout",
     "output_type": "stream",
     "text": [
      "Enter a number: 46\n",
      "Number is Even\n"
     ]
    }
   ],
   "source": [
    "number = int(input(\"Enter a number: \"))\n",
    "if number % 2 == 0:\n",
    "    print(\"Number is Even\")\n",
    "else:\n",
    "    print(\"Number is Odd\")"
   ]
  },
  {
   "cell_type": "markdown",
   "id": "40c996ad",
   "metadata": {},
   "source": [
    "5. WAP to reverse a string taken as input from the user.\n"
   ]
  },
  {
   "cell_type": "code",
   "execution_count": 16,
   "id": "22501700",
   "metadata": {},
   "outputs": [
    {
     "name": "stdout",
     "output_type": "stream",
     "text": [
      "Enter a string: Neha\n",
      "Reverse of a string:  aheN\n"
     ]
    }
   ],
   "source": [
    "string = input(\"Enter a string: \")\n",
    "rstring = ''\n",
    "for str1 in string:\n",
    "    rstring = str1 + rstring\n",
    "print(\"Reverse of a string: \", rstring)"
   ]
  },
  {
   "cell_type": "markdown",
   "id": "7e01052b",
   "metadata": {},
   "source": [
    "6. WAP to reverse all the strings present in a list and save them in a new list.\n"
   ]
  },
  {
   "cell_type": "code",
   "execution_count": 23,
   "id": "9884053c",
   "metadata": {},
   "outputs": [
    {
     "name": "stdout",
     "output_type": "stream",
     "text": [
      "['iH', 'aheN', 'uneR', 'arymA', 'neelhkuS', 'inamiH']\n"
     ]
    }
   ],
   "source": [
    "lst = [\"Hi\", \"Neha\", \"Renu\", \"Amyra\", \"Sukhleen\", \"Himani\"]\n",
    "revLst = []\n",
    "def reverse_string(string):\n",
    "    rstring = ''\n",
    "    for str1 in string:\n",
    "        rstring = str1 + rstring\n",
    "    return rstring\n",
    "for i in range(0, len(lst)):\n",
    "    revLst.append(reverse_string(lst[i]))\n",
    "print(revLst)\n",
    "    "
   ]
  },
  {
   "cell_type": "markdown",
   "id": "396a4bee",
   "metadata": {},
   "source": [
    "7. Print characters from a string that are present at an even index number\n"
   ]
  },
  {
   "cell_type": "code",
   "execution_count": 25,
   "id": "f0c7a011",
   "metadata": {},
   "outputs": [
    {
     "name": "stdout",
     "output_type": "stream",
     "text": [
      "Enter a string: Programmer\n",
      "P\n",
      "o\n",
      "r\n",
      "m\n",
      "e\n"
     ]
    }
   ],
   "source": [
    "string = input(\"Enter a string: \")\n",
    "\n",
    "for str1 in range(0,len(string)):\n",
    "    if str1 % 2 == 0:\n",
    "        print(string[str1])\n"
   ]
  },
  {
   "cell_type": "markdown",
   "id": "521aa557",
   "metadata": {},
   "source": [
    "8. Check if the first and last number of a list is the same\n"
   ]
  },
  {
   "cell_type": "code",
   "execution_count": 28,
   "id": "6ddc1292",
   "metadata": {},
   "outputs": [
    {
     "name": "stdout",
     "output_type": "stream",
     "text": [
      "First and last number of list is same\n"
     ]
    }
   ],
   "source": [
    "l = [4, 8, 5, 25, 7, 69, 8, 3, 4]\n",
    "if l[0] == l[len(l) - 1]:\n",
    "    print(\"First and last number of list is same\")"
   ]
  },
  {
   "cell_type": "markdown",
   "id": "1af74dd8",
   "metadata": {},
   "source": [
    "9. Calculate income tax for the input income by adhering to the Indian rules.#this is a comment\n"
   ]
  },
  {
   "cell_type": "code",
   "execution_count": 15,
   "id": "d4d5a17d",
   "metadata": {},
   "outputs": [
    {
     "name": "stdout",
     "output_type": "stream",
     "text": [
      "Enter you annual salary: 250000\n",
      "0.0\n"
     ]
    }
   ],
   "source": [
    "salary = int(input(\"Enter you annual salary: \"))\n",
    "\n",
    "if salary >=0 and salary <=250000:\n",
    "    tax = 0\n",
    "elif salary >250000 and salary <=500000:\n",
    "    tax = (salary - 250000) * 0.05\n",
    "elif salary >500000 and salary <=1000000:\n",
    "    tax = (salary - 500000) * 0.2 + 12500\n",
    "elif salary >1000000:\n",
    "    tax = (salary - 1000000) * 0.3 + 12500 + 0.2 * 500000\n",
    "else:\n",
    "    tax = 0\n",
    "\n",
    "total_tax = tax + (0.04*tax)\n",
    "print(total_tax)"
   ]
  },
  {
   "cell_type": "markdown",
   "id": "18321c06",
   "metadata": {},
   "source": [
   ]
  },
  {
   "cell_type": "code",
   "execution_count": 6,
   "id": "1533a3d7",
   "metadata": {},
   "outputs": [
    {
     "name": "stdout",
     "output_type": "stream",
     "text": [
      "String starts with vowel\n"
     ]
    }
   ],
   "source": [
    "str1 = \"Amyra\"\n",
    "lst = ['a', 'e', 'i', 'o', 'u']\n",
    "if str1[0].lower() in lst:\n",
    "    print(\"String starts with vowel\")\n",
    "else:\n",
    "    print(\"String not starting with Vowel\")"
   ]
  },
  {
   "cell_type": "markdown",
   "id": "745e5b98",
   "metadata": {},
   "source": [
    "11. Write a Python program to check if all the characters of a string are vowel or not.\n"
   ]
  },
  {
   "cell_type": "code",
   "execution_count": 28,
   "id": "a841a8eb",
   "metadata": {},
   "outputs": [
    {
     "name": "stdout",
     "output_type": "stream",
     "text": [
      "2\n",
      "5\n",
      "All characters of string are vowel\n"
     ]
    }
   ],
   "source": [
    "str1 = \"Amyra\"\n",
    "lst = ['a', 'e', 'i', 'o', 'u']\n",
    "lstVowel = []\n",
    "count = 0\n",
    "for i in range(0,len(str1)):\n",
    "    if str1[i].lower() in lst:\n",
    "        lstVowel.append(str1[i])\n",
    "print(len(lstVowel))\n",
    "print(len(str1))\n",
    "if (len(lstVowel) == len(str1)):\n",
    "    print(\"All characters of string are vowel\")\n",
    "else:\n",
    "    print(\"All characters of string are vowel\")"
   ]
  },
  {
   "cell_type": "markdown",
   "id": "8347c359",
   "metadata": {},
   "source": [
    "12. WAP to calculate percentage of a student through 5 subjects. Take marks as input from the user.\n"
   ]
  },
  {
   "cell_type": "code",
   "execution_count": 36,
   "id": "169b69e3",
   "metadata": {},
   "outputs": [
    {
     "name": "stdout",
     "output_type": "stream",
     "text": [
      "Enter marks in 1 subject85\n",
      "Enter marks in 2 subject47\n",
      "Enter marks in 3 subject89\n",
      "Enter marks in 4 subject95\n",
      "Enter marks in 5 subject87\n",
      "Percentage:  80.60000000000001\n"
     ]
    }
   ],
   "source": [
    "lst = []\n",
    "sum = 0\n",
    "for i in range(5):\n",
    "    marks = int(input(\"Enter marks in \"+ str((i + 1)) + \" subject\"))\n",
    "    lst.append(marks)\n",
    "    sum += lst[i]\n",
    "percentage = (sum / 500) * 100\n",
    "print(\"Percentage: \", percentage)\n",
    "\n",
    "    "
   ]
  },
  {
   "cell_type": "markdown",
   "id": "4593d0e5",
   "metadata": {},
   "source": [
    "13. WAP to convert '95.3' taken as input from the user into float value.\n"
   ]
  },
  {
   "cell_type": "code",
   "execution_count": 38,
   "id": "ed50a80f",
   "metadata": {},
   "outputs": [
    {
     "name": "stdout",
     "output_type": "stream",
     "text": [
      "95.3 <class 'float'>\n"
     ]
    }
   ],
   "source": [
    "userInp = '95.3'\n",
    "out = float(userInp)\n",
    "print(out, type(out))"
   ]
  },
  {
   "cell_type": "markdown",
   "id": "b29faca7",
   "metadata": {},
   "source": [
    "14. WAP to count the number of zeroes present in a number taken as input from the user.\n"
   ]
  },
  {
   "cell_type": "code",
   "execution_count": 41,
   "id": "dafda8f7",
   "metadata": {},
   "outputs": [
    {
     "name": "stdout",
     "output_type": "stream",
     "text": [
      "Total no of zeroes present:  7\n"
     ]
    }
   ],
   "source": [
    "number = 40004841054984000\n",
    "total = 0\n",
    "for i in str(number):\n",
    "    if i == '0':\n",
    "        total += 1\n",
    "print(\"Total no of zeroes present: \", total)"
   ]
  },
  {
   "cell_type": "markdown",
   "id": "1d432673",
   "metadata": {},
   "source": [
    "15. WAP to calculate the surface area of a triangle. Take the required values as input.\n"
   ]
  },
  {
   "cell_type": "code",
   "execution_count": 42,
   "id": "3149b469",
   "metadata": {},
   "outputs": [
    {
     "name": "stdout",
     "output_type": "stream",
     "text": [
      "Enter the base of a triangle: 5\n",
      "Enter the height of a triangle: 10\n",
      "Area of a triangle =  25.0\n"
     ]
    }
   ],
   "source": [
    "base = int(input(\"Enter the base of a triangle: \"))\n",
    "height = int(input(\"Enter the height of a triangle: \"))\n",
    "area = 1/2 * base * height\n",
    "print(\"Area of a triangle = \",area)"
   ]
  },
  {
   "cell_type": "markdown",
   "id": "b6279845",
   "metadata": {},
   "source": [
    "16. WAP to concatenate two lists index-wise and save the result in a 3rd list.\n"
   ]
  },
  {
   "cell_type": "code",
   "execution_count": 1,
   "id": "b00bab4f",
   "metadata": {},
   "outputs": [
    {
     "name": "stdout",
     "output_type": "stream",
     "text": [
      "['15', '26', '37']\n"
     ]
    }
   ],
   "source": [
    "l1 = ['1', '2', '3']\n",
    "l2 = ['5', '6', '7', '8']\n",
    "l3 = []\n",
    "for i in range(min(len(l1), len(l2))):\n",
    "    x = l1[i] + l2[i]\n",
    "    l3.append(x)\n",
    "print(l3)"
   ]
  },
  {
   "cell_type": "markdown",
   "id": "e275afca",
   "metadata": {},
   "source": [
    "17. WAP to convert two lists into a dictionary. Take the elements from first list as keys\n",
    "and elements from second list as values.\n"
   ]
  },
  {
   "cell_type": "code",
   "execution_count": 16,
   "id": "359b2953",
   "metadata": {},
   "outputs": [
    {
     "name": "stdout",
     "output_type": "stream",
     "text": [
      "{1: 'Anil', 2: 'Renu', 3: 'Neha', 4: 'Pulkit'}\n"
     ]
    }
   ],
   "source": [
    "list1 = [1, 2, 3, 4]\n",
    "list2 = [\"Anil\", \"Renu\", \"Neha\", \"Pulkit\"]\n",
    "dictionary = dict()\n",
    "for i in range(0,len(list1)):\n",
    "    dictionary[list1[i]] = list2[i]\n",
    "print(dictionary)"
   ]
  },
  {
   "cell_type": "markdown",
   "id": "3ba1ac1f",
   "metadata": {},
   "source": [
    "18. Input and store the marks of 10 students in a list. Print max and min marks.\n"
   ]
  },
  {
   "cell_type": "code",
   "execution_count": 11,
   "id": "d6afda83",
   "metadata": {},
   "outputs": [
    {
     "name": "stdout",
     "output_type": "stream",
     "text": [
      "Enter the marks65\n",
      "Enter the marks58\n",
      "Enter the marks48\n",
      "Enter the marks98\n",
      "Enter the marks78\n",
      "Enter the marks63\n",
      "Enter the marks88\n",
      "Enter the marks89\n",
      "Enter the marks25\n",
      "Enter the marks39\n",
      " Maximum marks:  98\n",
      "Minimum marks:  25\n"
     ]
    }
   ],
   "source": [
    "lst = []\n",
    "for num in range(10):\n",
    "    marks = int(input(\"Enter the marks\"))\n",
    "    lst.append(marks)\n",
    "print(\" Maximum marks: \",max(lst))\n",
    "print(\"Minimum marks: \",min(lst))"
   ]
  },
  {
   "cell_type": "markdown",
   "id": "7067f579",
   "metadata": {},
   "source": [
    "19. WAP to save the username and password of 10 users in a dictionary.\n"
   ]
  },
  {
   "cell_type": "code",
   "execution_count": 19,
   "id": "1aa23cfe",
   "metadata": {},
   "outputs": [
    {
     "name": "stdout",
     "output_type": "stream",
     "text": [
      "{'akansha': '1234', 'sonia': 'sdfg', 'sukhleen': 'zxcv', 'arohi': '7890', 'gazal': 'qwerty', 'himani': 'zxcvbnm', 'ritesh': 'ghjkl', 'ritika': '96325', 'akshara': 'ioplk', 'ritu': '456123'}\n"
     ]
    }
   ],
   "source": [
    "d1 = {}\n",
    "username = ['akansha', 'sonia', 'sukhleen', 'arohi', 'gazal', 'himani', 'ritesh', 'ritika', 'akshara', 'ritu']\n",
    "password = ['1234', 'sdfg', 'zxcv', '7890', 'qwerty', 'zxcvbnm', 'ghjkl', '96325', 'ioplk', '456123']\n",
    "\n",
    "for i in range(10):\n",
    "    d1.update({username[i] : password[i]})\n",
    "print(d1)"
   ]
  },
  {
   "cell_type": "markdown",
   "id": "cc2b5650",
   "metadata": {},
   "source": [
    "20. Write a Python program to find the sum of the first n positive integers. Take n as input from the user.\n"
   ]
  },
  {
   "cell_type": "code",
   "execution_count": 6,
   "id": "5b7d60f5",
   "metadata": {},
   "outputs": [
    {
     "name": "stdout",
     "output_type": "stream",
     "text": [
      "Enter the number input: 2\n",
      "3.0\n"
     ]
    }
   ],
   "source": [
    "n = int(input(\"Enter the number input: \"))\n",
    "sum = n * (n + 1) / 2\n",
    "\n",
    "print(sum)"
   ]
  },
  {
   "cell_type": "code",
   "execution_count": null,
   "id": "e84f0f23",
   "metadata": {},
   "outputs": [],
   "source": []
  }
 ],
 "metadata": {
  "kernelspec": {
   "display_name": "Python 3 (ipykernel)",
   "language": "python",
   "name": "python3"
  },
  "language_info": {
   "codemirror_mode": {
    "name": "ipython",
    "version": 3
   },
   "file_extension": ".py",
   "mimetype": "text/x-python",
   "name": "python",
   "nbconvert_exporter": "python",
   "pygments_lexer": "ipython3",
   "version": "3.9.12"
  }
 },
 "nbformat": 4,
 "nbformat_minor": 5
}
