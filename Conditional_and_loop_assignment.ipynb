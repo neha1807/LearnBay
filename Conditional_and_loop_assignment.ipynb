{
 "cells": [
  {
   "cell_type": "markdown",
   "id": "dbbcc081",
   "metadata": {},
   "source": [
    "1. W. A P. which takes one number from 0 to 9 from the user and prints it in the word. And if the word is not from 0 to 9 then\n",
    "it should print that number is outside of the range and program should exit.\n",
    "For exapmple:- \n",
    "input = 1\n",
    "output = one"
   ]
  },
  {
   "cell_type": "code",
   "execution_count": 4,
   "id": "61d94c87",
   "metadata": {},
   "outputs": [
    {
     "name": "stdout",
     "output_type": "stream",
     "text": [
      "Enter a number: 8\n",
      "Eight\n"
     ]
    }
   ],
   "source": [
    "number = int(input(\"Enter a number: \"))\n",
    "\n",
    "if number == 1:\n",
    "    print(\"One\")\n",
    "elif number == 2:\n",
    "    print(\"Two\")\n",
    "elif number == 3:\n",
    "    print(\"Three\")\n",
    "elif number == 4:\n",
    "    print(\"Four\")\n",
    "elif number == 5:\n",
    "    print(\"Five\")\n",
    "elif number == 6:\n",
    "    print(\"Six\")\n",
    "elif number == 7:\n",
    "    print(\"Seven\")\n",
    "elif number == 8:\n",
    "    print(\"Eight\")\n",
    "elif number == 9:\n",
    "    print(\"Nine\")\n",
    "else:\n",
    "    print(\"Number is outside of the range\")\n",
    "\n",
    "\n"
   ]
  },
  {
   "cell_type": "code",
   "execution_count": null,
   "id": "a52c3376",
   "metadata": {},
   "outputs": [],
   "source": [
    "2. W. A P. to implement calculator but the operation to be done and two numbers will be taken as input from user:-\n",
    "# Operation console should show below:-\n",
    "#     Please select any one operation from below:-\n",
    "#         * To add enter 1\n",
    "#         * to subtract enter 2\n",
    "#         * To multiply enter 3\n",
    "#         * To divide enter 4\n",
    "#         * To divide and find quotient enter 5\n",
    "#         * To divide and find remainder enter 6\n",
    "#         * To divide and find num1 to the power of num2 enter 7\n",
    "#         * To Come out of the program enter 8"
   ]
  },
  {
   "cell_type": "code",
   "execution_count": 1,
   "id": "8ae9331c",
   "metadata": {},
   "outputs": [
    {
     "name": "stdout",
     "output_type": "stream",
     "text": [
      "Please select any operation from below:- \n",
      "    * To add enter 1\n",
      "    * To subtract enter 2\n",
      "    * To multiply enter 3\n",
      "    * To divide enter 4\n",
      "    * To divide and find quotient enter 5\n",
      "    * To divide and find remainder enter 6\n",
      "    * To divide and find num1 to the power of num2 enter 7\n",
      "    * To Come out of the program enter 8\n",
      "2\n",
      "Enter first number :8\n",
      "Enter second number: 9\n",
      "-1\n",
      "Please select any operation from below:- \n",
      "    * To add enter 1\n",
      "    * To subtract enter 2\n",
      "    * To multiply enter 3\n",
      "    * To divide enter 4\n",
      "    * To divide and find quotient enter 5\n",
      "    * To divide and find remainder enter 6\n",
      "    * To divide and find num1 to the power of num2 enter 7\n",
      "    * To Come out of the program enter 8\n",
      "8\n"
     ]
    }
   ],
   "source": [
    "while(True):\n",
    "    \n",
    "    print(\"Please select any operation from below:- \")\n",
    "    print(\"    * To add enter 1\")\n",
    "    print(\"    * To subtract enter 2\")\n",
    "    print(\"    * To multiply enter 3\")\n",
    "    print(\"    * To divide enter 4\")\n",
    "    print(\"    * To divide and find quotient enter 5\")\n",
    "    print(\"    * To divide and find remainder enter 6\")\n",
    "    print(\"    * To divide and find num1 to the power of num2 enter 7\")\n",
    "    print(\"    * To Come out of the program enter 8\")\n",
    "    op = int(input())\n",
    "    if( op != 8):\n",
    "        x = int(input(\"Enter first number :\"))\n",
    "        y = int(input(\"Enter second number: \"))\n",
    "    \n",
    "    if op == 1:\n",
    "        print(x + y)\n",
    "    elif op == 2:\n",
    "        print(x - y)\n",
    "    elif op == 3:\n",
    "        print(x * y)\n",
    "    elif op == 4:\n",
    "        print(x / y)\n",
    "    elif op == 5:\n",
    "        print(x // y)\n",
    "    elif op == 6:\n",
    "        print(x % y)\n",
    "    elif op == 7:\n",
    "        print(x ** y)\n",
    "    elif op == 8:\n",
    "        break\n"
   ]
  },
  {
   "cell_type": "code",
   "execution_count": 2,
   "id": "016ad94f",
   "metadata": {},
   "outputs": [],
   "source": [
    "3. # W A P to check whether a year entered by user is a leap year or not?\n",
    "# Check with below input:-\n",
    "#     leap year:- 2012, 1968, 2004, 1200, 1600,2400\n",
    "#     Non-lear year:- 1971, 2006, 1700,1800,1900"
   ]
  },
  {
   "cell_type": "code",
   "execution_count": 6,
   "id": "29ea85c6",
   "metadata": {},
   "outputs": [
    {
     "name": "stdout",
     "output_type": "stream",
     "text": [
      "Enter a year 2012\n",
      "It's a leap year\n",
      "Enter a year 1968\n",
      "It's a leap year\n",
      "Enter a year 2004\n",
      "It's a leap year\n",
      "Enter a year 1200\n",
      "It's a leap year\n",
      "Enter a year 1600\n",
      "It's a leap year\n",
      "Enter a year 2400\n",
      "It's a leap year\n",
      "Enter a year 1971\n",
      "It's not a leap year\n",
      "Enter a year 2006\n",
      "It's not a leap year\n",
      "Enter a year 1700\n",
      "It's not a leap year\n",
      "Enter a year 800\n",
      "It's a leap year\n",
      "Enter a year 1800\n",
      "It's not a leap year\n",
      "Enter a year 1900\n",
      "It's not a leap year\n"
     ]
    },
    {
     "ename": "KeyboardInterrupt",
     "evalue": "Interrupted by user",
     "output_type": "error",
     "traceback": [
      "\u001b[1;31m---------------------------------------------------------------------------\u001b[0m",
      "\u001b[1;31mKeyboardInterrupt\u001b[0m                         Traceback (most recent call last)",
      "Input \u001b[1;32mIn [6]\u001b[0m, in \u001b[0;36m<cell line: 2>\u001b[1;34m()\u001b[0m\n\u001b[0;32m      1\u001b[0m \u001b[38;5;28;01mwhile\u001b[39;00m(\u001b[38;5;28;01mTrue\u001b[39;00m):\n\u001b[1;32m----> 2\u001b[0m     year \u001b[38;5;241m=\u001b[39m \u001b[38;5;28mint\u001b[39m(\u001b[38;5;28;43minput\u001b[39;49m\u001b[43m(\u001b[49m\u001b[38;5;124;43m\"\u001b[39;49m\u001b[38;5;124;43mEnter a year \u001b[39;49m\u001b[38;5;124;43m\"\u001b[39;49m\u001b[43m)\u001b[49m)\n\u001b[0;32m      3\u001b[0m     \u001b[38;5;28;01mif\u001b[39;00m (year \u001b[38;5;241m%\u001b[39m \u001b[38;5;241m400\u001b[39m \u001b[38;5;241m==\u001b[39m \u001b[38;5;241m0\u001b[39m) \u001b[38;5;129;01mor\u001b[39;00m ((year \u001b[38;5;241m%\u001b[39m \u001b[38;5;241m4\u001b[39m \u001b[38;5;241m==\u001b[39m \u001b[38;5;241m0\u001b[39m) \u001b[38;5;129;01mand\u001b[39;00m (year \u001b[38;5;241m%\u001b[39m \u001b[38;5;241m100\u001b[39m \u001b[38;5;241m!=\u001b[39m \u001b[38;5;241m0\u001b[39m)):\n\u001b[0;32m      4\u001b[0m         \u001b[38;5;28mprint\u001b[39m(\u001b[38;5;124m\"\u001b[39m\u001b[38;5;124mIt\u001b[39m\u001b[38;5;124m'\u001b[39m\u001b[38;5;124ms a leap year\u001b[39m\u001b[38;5;124m\"\u001b[39m)\n",
      "File \u001b[1;32m~\\anaconda3\\lib\\site-packages\\ipykernel\\kernelbase.py:1075\u001b[0m, in \u001b[0;36mKernel.raw_input\u001b[1;34m(self, prompt)\u001b[0m\n\u001b[0;32m   1071\u001b[0m \u001b[38;5;28;01mif\u001b[39;00m \u001b[38;5;129;01mnot\u001b[39;00m \u001b[38;5;28mself\u001b[39m\u001b[38;5;241m.\u001b[39m_allow_stdin:\n\u001b[0;32m   1072\u001b[0m     \u001b[38;5;28;01mraise\u001b[39;00m StdinNotImplementedError(\n\u001b[0;32m   1073\u001b[0m         \u001b[38;5;124m\"\u001b[39m\u001b[38;5;124mraw_input was called, but this frontend does not support input requests.\u001b[39m\u001b[38;5;124m\"\u001b[39m\n\u001b[0;32m   1074\u001b[0m     )\n\u001b[1;32m-> 1075\u001b[0m \u001b[38;5;28;01mreturn\u001b[39;00m \u001b[38;5;28;43mself\u001b[39;49m\u001b[38;5;241;43m.\u001b[39;49m\u001b[43m_input_request\u001b[49m\u001b[43m(\u001b[49m\n\u001b[0;32m   1076\u001b[0m \u001b[43m    \u001b[49m\u001b[38;5;28;43mstr\u001b[39;49m\u001b[43m(\u001b[49m\u001b[43mprompt\u001b[49m\u001b[43m)\u001b[49m\u001b[43m,\u001b[49m\n\u001b[0;32m   1077\u001b[0m \u001b[43m    \u001b[49m\u001b[38;5;28;43mself\u001b[39;49m\u001b[38;5;241;43m.\u001b[39;49m\u001b[43m_parent_ident\u001b[49m\u001b[43m[\u001b[49m\u001b[38;5;124;43m\"\u001b[39;49m\u001b[38;5;124;43mshell\u001b[39;49m\u001b[38;5;124;43m\"\u001b[39;49m\u001b[43m]\u001b[49m\u001b[43m,\u001b[49m\n\u001b[0;32m   1078\u001b[0m \u001b[43m    \u001b[49m\u001b[38;5;28;43mself\u001b[39;49m\u001b[38;5;241;43m.\u001b[39;49m\u001b[43mget_parent\u001b[49m\u001b[43m(\u001b[49m\u001b[38;5;124;43m\"\u001b[39;49m\u001b[38;5;124;43mshell\u001b[39;49m\u001b[38;5;124;43m\"\u001b[39;49m\u001b[43m)\u001b[49m\u001b[43m,\u001b[49m\n\u001b[0;32m   1079\u001b[0m \u001b[43m    \u001b[49m\u001b[43mpassword\u001b[49m\u001b[38;5;241;43m=\u001b[39;49m\u001b[38;5;28;43;01mFalse\u001b[39;49;00m\u001b[43m,\u001b[49m\n\u001b[0;32m   1080\u001b[0m \u001b[43m\u001b[49m\u001b[43m)\u001b[49m\n",
      "File \u001b[1;32m~\\anaconda3\\lib\\site-packages\\ipykernel\\kernelbase.py:1120\u001b[0m, in \u001b[0;36mKernel._input_request\u001b[1;34m(self, prompt, ident, parent, password)\u001b[0m\n\u001b[0;32m   1117\u001b[0m             \u001b[38;5;28;01mbreak\u001b[39;00m\n\u001b[0;32m   1118\u001b[0m \u001b[38;5;28;01mexcept\u001b[39;00m \u001b[38;5;167;01mKeyboardInterrupt\u001b[39;00m:\n\u001b[0;32m   1119\u001b[0m     \u001b[38;5;66;03m# re-raise KeyboardInterrupt, to truncate traceback\u001b[39;00m\n\u001b[1;32m-> 1120\u001b[0m     \u001b[38;5;28;01mraise\u001b[39;00m \u001b[38;5;167;01mKeyboardInterrupt\u001b[39;00m(\u001b[38;5;124m\"\u001b[39m\u001b[38;5;124mInterrupted by user\u001b[39m\u001b[38;5;124m\"\u001b[39m) \u001b[38;5;28;01mfrom\u001b[39;00m \u001b[38;5;28mNone\u001b[39m\n\u001b[0;32m   1121\u001b[0m \u001b[38;5;28;01mexcept\u001b[39;00m \u001b[38;5;167;01mException\u001b[39;00m:\n\u001b[0;32m   1122\u001b[0m     \u001b[38;5;28mself\u001b[39m\u001b[38;5;241m.\u001b[39mlog\u001b[38;5;241m.\u001b[39mwarning(\u001b[38;5;124m\"\u001b[39m\u001b[38;5;124mInvalid Message:\u001b[39m\u001b[38;5;124m\"\u001b[39m, exc_info\u001b[38;5;241m=\u001b[39m\u001b[38;5;28;01mTrue\u001b[39;00m)\n",
      "\u001b[1;31mKeyboardInterrupt\u001b[0m: Interrupted by user"
     ]
    }
   ],
   "source": [
    "while(True):\n",
    "    year = int(input(\"Enter a year \"))\n",
    "    if (year % 400 == 0) or ((year % 4 == 0) and (year % 100 != 0)):\n",
    "        print(\"It's a leap year\")\n",
    "    else:\n",
    "        print(\"It's not a leap year\")"
   ]
  },
  {
   "cell_type": "code",
   "execution_count": 7,
   "id": "8f60cfe3",
   "metadata": {},
   "outputs": [],
   "source": [
    "# 4. W A P which takes one number from the user and checks whether it is an even or odd number?, If it even then prints number is \n",
    "# even number else prints that number is odd number."
   ]
  },
  {
   "cell_type": "code",
   "execution_count": 8,
   "id": "13430e8d",
   "metadata": {},
   "outputs": [
    {
     "name": "stdout",
     "output_type": "stream",
     "text": [
      "Enter a number: 68\n",
      "number is even number\n"
     ]
    }
   ],
   "source": [
    "num = int(input(\"Enter a number: \"))\n",
    "if num % 2 == 0:\n",
    "    print(\"number is even number\")\n",
    "else:\n",
    "    print(\"number is odd number\")"
   ]
  },
  {
   "cell_type": "code",
   "execution_count": 9,
   "id": "855bce1e",
   "metadata": {},
   "outputs": [],
   "source": [
    "# 5. W A P which takes two numbers from the user and prints below output:-\n",
    "#     1. num1 is greater than num2 if num1 is greater than num2\n",
    "#     2. num1 is smaller than num2 if num1 is smaller than num2\n",
    "#     3. num1 is equal to num2 if num1 and num2 are equal\n",
    "\n",
    "# Note:- 1. Do this problem using if - else \n",
    "#       2. Do this using ternary operator"
   ]
  },
  {
   "cell_type": "code",
   "execution_count": 10,
   "id": "b5e504ab",
   "metadata": {},
   "outputs": [
    {
     "name": "stdout",
     "output_type": "stream",
     "text": [
      "Enter first number: 8\n",
      "Enter second number: 9\n",
      "num1 is smaller than num2\n"
     ]
    }
   ],
   "source": [
    "# Using if - else:\n",
    "num1 = int(input(\"Enter first number: \"))\n",
    "num2 = int(input(\"Enter second number: \"))\n",
    "if num1 > num2:\n",
    "    print(\"num1 is greater than num2\")\n",
    "elif num1 < num2:\n",
    "    print(\"num1 is smaller than num2\")\n",
    "elif num1 == num2:\n",
    "    print(\"num1 and num2 are equal\")\n"
   ]
  },
  {
   "cell_type": "code",
   "execution_count": 14,
   "id": "e181cb68",
   "metadata": {},
   "outputs": [
    {
     "name": "stdout",
     "output_type": "stream",
     "text": [
      "Enter first number: 6\n",
      "Enter second number: 6\n",
      "num1 and num2 are equal\n"
     ]
    }
   ],
   "source": [
    "# Using ternary operator\n",
    "num1 = int(input(\"Enter first number: \"))\n",
    "num2 = int(input(\"Enter second number: \"))\n",
    "x, y = num1, num2\n",
    "print(\"num1 is greater than num2\") if num1 > num2 else \"\"\n",
    "print(\"num1 is smaller than num2\") if num1 < num2 else \"\"\n",
    "print(\"num1 and num2 are equal\") if num1 == num2 else \"\""
   ]
  },
  {
   "cell_type": "code",
   "execution_count": 15,
   "id": "a40991fc",
   "metadata": {},
   "outputs": [],
   "source": [
    "# 6.W A P which takes three numbers from the user and prints below output:-\n",
    "#     1. num1 is greater than num2 and num3 if num1 is greater than num2 and num3\n",
    "#     2. num2 is greater than num1 and num3 if num2 is greater than num1 and num3\n",
    "#     3. num3 is greater than num1 and num2 if num3 is greater than num1 and num2\n",
    "\n",
    "# Note:- 1. Do this problem using if - elif - else \n",
    "#       2. Do this using ternary operator\n",
    "\n",
    "# a = a if a>b else b\n",
    "    "
   ]
  },
  {
   "cell_type": "code",
   "execution_count": 16,
   "id": "f8714bf1",
   "metadata": {},
   "outputs": [
    {
     "name": "stdout",
     "output_type": "stream",
     "text": [
      "Enter first number: 9\n",
      "Enter second number: 8\n",
      "Enter third number: 5\n",
      "num1 is greater than num2 and num3\n"
     ]
    }
   ],
   "source": [
    "# Using if - else:\n",
    "num1 = int(input(\"Enter first number: \"))\n",
    "num2 = int(input(\"Enter second number: \"))\n",
    "num3 = int(input(\"Enter third number: \"))\n",
    "if num1 > num2 and num1 > num3:\n",
    "    print(\"num1 is greater than num2 and num3\")\n",
    "elif num2 > num1 and num2 > num3:\n",
    "    print(\"num2 is greater than num1 and num3\")\n",
    "elif num3 > num1 and num3 > num2:\n",
    "    print(\"num3 is greater than num2 and num3\")\n"
   ]
  },
  {
   "cell_type": "code",
   "execution_count": 17,
   "id": "5839b58c",
   "metadata": {},
   "outputs": [
    {
     "name": "stdout",
     "output_type": "stream",
     "text": [
      "Enter first number: 9\n",
      "Enter second number: 8\n",
      "Enter third number: 5\n",
      "num1 is greater than num2 and num3\n"
     ]
    },
    {
     "data": {
      "text/plain": [
       "''"
      ]
     },
     "execution_count": 17,
     "metadata": {},
     "output_type": "execute_result"
    }
   ],
   "source": [
    "# Using ternary operator:\n",
    "num1 = int(input(\"Enter first number: \"))\n",
    "num2 = int(input(\"Enter second number: \"))\n",
    "num3 = int(input(\"Enter third number: \"))\n",
    "print(\"num1 is greater than num2 and num3\") if num1 > num2 and num1 > num3 else \"\"\n",
    "print(\"num2 is greater than num1 and num3\") if num2 > num1 and num2 > num3 else \"\"\n",
    "print(\"num3 is greater than num2 and num3\") if num3 > num1 and num3 > num2 else \"\"\n"
   ]
  },
  {
   "cell_type": "code",
   "execution_count": 1,
   "id": "f74bf72c",
   "metadata": {},
   "outputs": [],
   "source": [
    "# 7.Write a Python program to find the length of the my_str using loop:-\n",
    "\n",
    "# Input:- 'Write a Python program to find the length of the my_str'\n",
    "# Output:- 55\n",
    "\n",
    "#length = len(my_str)"
   ]
  },
  {
   "cell_type": "code",
   "execution_count": 7,
   "id": "82dc72ad",
   "metadata": {},
   "outputs": [
    {
     "name": "stdout",
     "output_type": "stream",
     "text": [
      "Enter the string: Lorem Ipsum is simply dummy text of the printing and ty\n",
      "using loop:  55\n",
      "Using length function  55\n"
     ]
    }
   ],
   "source": [
    "my_str = input(\"Enter the string: \")\n",
    "count = 0\n",
    "for i in my_str:\n",
    "    count += 1\n",
    "print(\"using loop: \",count)\n",
    "print(\"Using length function \",len(my_str))"
   ]
  },
  {
   "cell_type": "code",
   "execution_count": 8,
   "id": "d3d3aa8f",
   "metadata": {},
   "outputs": [],
   "source": [
    "# 8.Write a Python program to find the total number of times letter 'p' is appeared in the below string using loop:-\n",
    "    \n",
    "# Input:- 'peter piper picked a peck of pickled peppers.\\n'\n",
    "# Output:- 9"
   ]
  },
  {
   "cell_type": "code",
   "execution_count": 9,
   "id": "cbfee88f",
   "metadata": {},
   "outputs": [
    {
     "name": "stdout",
     "output_type": "stream",
     "text": [
      "Enter the string: peter piper picked a peck of pickled peppers.\n",
      "9\n"
     ]
    }
   ],
   "source": [
    "str_inp = input(\"Enter the string: \")\n",
    "count = 0\n",
    "for s in str_inp:\n",
    "    if s == 'p':\n",
    "        count += 1\n",
    "print(count)       "
   ]
  },
  {
   "cell_type": "code",
   "execution_count": 10,
   "id": "b2d9e66b",
   "metadata": {},
   "outputs": [],
   "source": [
    "# 9.Write a Python Program, to print all the indexes of all occurences of letter 'p' appeared in the string using loop:-\n",
    "    \n",
    "# Input:- 'peter piper picked a peck of pickled peppers.'\n",
    "# Output:- \n",
    "# 0\n",
    "# 6\n",
    "# 8\n",
    "# 12\n",
    "# 21\n",
    "# 29\n",
    "# 37\n",
    "# 39\n",
    "# 40\n"
   ]
  },
  {
   "cell_type": "code",
   "execution_count": 18,
   "id": "55450807",
   "metadata": {},
   "outputs": [
    {
     "name": "stdout",
     "output_type": "stream",
     "text": [
      "Enter the string: peter piper picked a peck of pickled peppers.\n",
      "0\n",
      "6\n",
      "8\n",
      "12\n",
      "21\n",
      "29\n",
      "37\n",
      "39\n",
      "40\n"
     ]
    }
   ],
   "source": [
    "str_inp = input(\"Enter the string: \")\n",
    "count = 0\n",
    "for s in range(len(str_inp)):\n",
    "    if str_inp[s] == 'p':\n",
    "        print(s)\n"
   ]
  },
  {
   "cell_type": "code",
   "execution_count": 19,
   "id": "c3173a7a",
   "metadata": {},
   "outputs": [],
   "source": [
    "# 10.Write a python program to find below output using loop:-\n",
    "\n",
    "# Input:- 'peter piper picked a peck of pickled peppers.'\n",
    "# Output:- ['peter', 'piper', 'picked', 'a', 'peck', 'of', 'pickled', 'peppers']"
   ]
  },
  {
   "cell_type": "code",
   "execution_count": 30,
   "id": "661e1e02",
   "metadata": {},
   "outputs": [
    {
     "name": "stdout",
     "output_type": "stream",
     "text": [
      "Enter the string: peter piper picked a peck of pickled peppers.\n",
      "['peter', 'piper', 'picked', 'a', 'peck', 'of', 'pickled', 'peppers.']\n"
     ]
    }
   ],
   "source": [
    "st1 = input(\"Enter the string: \").split()\n",
    "l = []\n",
    "for i in st1:\n",
    "    l.append(i)\n",
    "print(l)\n"
   ]
  },
  {
   "cell_type": "markdown",
   "id": "9c678490",
   "metadata": {},
   "source": [
    "11.Write a python program to find below output using loop:-\n",
    "\n",
    "Input:- 'peter piper picked a peck of pickled peppers.'\n",
    "Output:- 'peppers pickled of peck a picked piper peter'\n",
    "\n"
   ]
  },
  {
   "cell_type": "code",
   "execution_count": 49,
   "id": "7213a191",
   "metadata": {},
   "outputs": [
    {
     "name": "stdout",
     "output_type": "stream",
     "text": [
      "peppers pickled of peck a picked piper peter\n"
     ]
    }
   ],
   "source": [
    "string = 'peter piper picked a peck of pickled peppers'\n",
    "l = []\n",
    "str1 = \" \"\n",
    "\n",
    "for i in string.split():\n",
    "    l.append(i)\n",
    "l.reverse()\n",
    "l\n",
    "print(str1.join(l))"
   ]
  },
  {
   "cell_type": "code",
   "execution_count": 50,
   "id": "41018997",
   "metadata": {},
   "outputs": [],
   "source": [
    "# 12.Write a python program to find below output using loop:-\n",
    "\n",
    "# Input:- 'peter piper picked a peck of pickled peppers.'\n",
    "# Output:- '.sreppep delkcip fo kcep a dekcip repip retep'"
   ]
  },
  {
   "cell_type": "code",
   "execution_count": 55,
   "id": "28c5d4a8",
   "metadata": {},
   "outputs": [
    {
     "name": "stdout",
     "output_type": "stream",
     "text": [
      ".sreppep delkcip fo kcep a dekcip repip retep\n"
     ]
    }
   ],
   "source": [
    "string = 'peter piper picked a peck of pickled peppers.'\n",
    "l = []\n",
    "str1 = string[::-1]\n",
    "# for i in string:\n",
    "#     l.append(i)\n",
    "# l.reverse()\n",
    "# l\n",
    "print(str1)"
   ]
  },
  {
   "cell_type": "code",
   "execution_count": 57,
   "id": "dd1531fb",
   "metadata": {},
   "outputs": [],
   "source": [
    "# 13.Write a python program to find below output using loop:-\n",
    "\n",
    "# Input:- 'peter piper picked a peck of pickled peppers.'\n",
    "# Output:- 'retep repip dekcip a kcep fo delkcip sreppep'"
   ]
  },
  {
   "cell_type": "code",
   "execution_count": 12,
   "id": "ad0daab1",
   "metadata": {},
   "outputs": [
    {
     "name": "stdout",
     "output_type": "stream",
     "text": [
      "retep repip dekcip a kcep fo delkcip sreppep\n"
     ]
    }
   ],
   "source": [
    "string = 'peter piper picked a peck of pickled peppers'\n",
    "out = ''\n",
    "l =[]\n",
    "s = string.split()\n",
    "for i in string.split():\n",
    "    l.append(i[::-1])\n",
    "\n",
    "print(\" \".join(l))"
   ]
  },
  {
   "cell_type": "code",
   "execution_count": 13,
   "id": "eb19c57a",
   "metadata": {},
   "outputs": [],
   "source": [
    "# 14.Write a python program to find below output using loop:-\n",
    "\n",
    "# Input:- 'peter piper picked a peck of pickled peppers.'\n",
    "# Output:- 'Peter Piper Picked A Peck Of Pickled Peppers'\n"
   ]
  },
  {
   "cell_type": "code",
   "execution_count": 15,
   "id": "0446d424",
   "metadata": {},
   "outputs": [
    {
     "name": "stdout",
     "output_type": "stream",
     "text": [
      "Peter Piper Picked A Peck Of Pickled Peppers\n"
     ]
    }
   ],
   "source": [
    "string = 'peter piper picked a peck of pickled peppers'\n",
    "l1 = []\n",
    "for i in string.split():\n",
    "    l1.append(i.title())\n",
    "\n",
    "print(\" \".join(l1))"
   ]
  },
  {
   "cell_type": "code",
   "execution_count": 16,
   "id": "07ed0033",
   "metadata": {},
   "outputs": [],
   "source": [
    "# 15.Write a python program to find below output using loop:-\n",
    "\n",
    "# Input:- 'Peter Piper Picked A Peck Of Pickled Peppers.'\n",
    "# Output:- 'Peter piper picked a peck of pickled peppers'"
   ]
  },
  {
   "cell_type": "code",
   "execution_count": 4,
   "id": "c3e23421",
   "metadata": {},
   "outputs": [
    {
     "name": "stdout",
     "output_type": "stream",
     "text": [
      "Peter piper picked a peck of pickled peppers\n"
     ]
    }
   ],
   "source": [
    "string = 'peter piper picked a peck of pickled peppers'\n",
    "s = string[0].upper() + string[1:]\n",
    "print(s)\n"
   ]
  },
  {
   "cell_type": "code",
   "execution_count": 5,
   "id": "24188b3c",
   "metadata": {},
   "outputs": [],
   "source": [
    "#16. Write a python program to implement index method using loop. If sub_str is found in my_str \n",
    "# then it will print the index of first occurrence of first character of matching string in my_str:-\n",
    "\n",
    "# Input:- my_str = 'Peter Piper Picked A Peck Of Pickled Peppers.', sub_str = 'Pickl'\n",
    "# Output:- 29"
   ]
  },
  {
   "cell_type": "code",
   "execution_count": 18,
   "id": "2ad27af8",
   "metadata": {},
   "outputs": [
    {
     "name": "stdout",
     "output_type": "stream",
     "text": [
      "29\n"
     ]
    }
   ],
   "source": [
    "my_str = 'Peter Piper Picked A Peck Of Pickled Peppers.'\n",
    "sub_str = 'Pickl'\n",
    "print(l)\n",
    "for i in range(len(my_str)):\n",
    "    if sub_str == my_str[i:len(sub_str)]:\n",
    "        print(i)\n",
    "        \n",
    "     "
   ]
  },
  {
   "cell_type": "code",
   "execution_count": 19,
   "id": "17b46fe3",
   "metadata": {},
   "outputs": [],
   "source": [
    "# 17.Write a python program to implement replace method using loop. If sub_str is found in my_str \n",
    "# then it will replace the first \n",
    "# occurrence of sub_str with new_str else it will will print sub_str not found:-\n",
    "\n",
    "# Input:- my_str = 'Peter Piper Picked A Peck Of Pickled Peppers.', sub_str = 'Peck', new_str = 'Pack'\n",
    "# Output:- 'Peter Piper Picked A Pack Of Pickled Peppers.'\n"
   ]
  },
  {
   "cell_type": "code",
   "execution_count": 11,
   "id": "51a26bc3",
   "metadata": {},
   "outputs": [
    {
     "name": "stdout",
     "output_type": "stream",
     "text": [
      "Peter Piper Picked A Pack Of Pickled Peppers.\n"
     ]
    }
   ],
   "source": [
    "my_str = 'Peter Piper Picked A Peck Of Pickled Peppers.'\n",
    "sub_str = 'Peck'\n",
    "new_str = 'Pack'\n",
    "out_str = ''\n",
    "index = 0\n",
    "for i in range(len(my_str)):\n",
    "    if sub_str == my_str[i:i+len(sub_str)]:\n",
    "        index = i\n",
    "        break\n",
    "    out_str += my_str[i]\n",
    "out_str = out_str + new_str + my_str[index+len(sub_str):index+len(my_str)]\n",
    "\n",
    "if(sub_str in my_str):\n",
    "    print(out_str)\n",
    "else:\n",
    "    print(\"sub_str not found\")"
   ]
  },
  {
   "cell_type": "code",
   "execution_count": null,
   "id": "029e4ad0",
   "metadata": {},
   "outputs": [],
   "source": [
    "#18.Write a python program to find below output (implements rjust and ljust) using loop:-\n",
    "\n",
    "# Input:- 'Peter Piper Picked A Peck Of Pickled Peppers.', sub_str = 'Peck', \n",
    "# Output:- '*********************Peck********************'\n"
   ]
  },
  {
   "cell_type": "code",
   "execution_count": 5,
   "id": "42b83bc4",
   "metadata": {},
   "outputs": [
    {
     "name": "stdout",
     "output_type": "stream",
     "text": [
      "Peter Piper Picked A Peck Of Pickled Peppers.\n",
      "********************Peck*********************\n"
     ]
    }
   ],
   "source": [
    "sub_str = 'Peck'\n",
    "str1 = 'Peter Piper Picked A Peck Of Pickled Peppers.'\n",
    "for i in range(len(str1)):\n",
    "    if str1[i:i+len(sub_str)] == sub_str:\n",
    "        index = i\n",
    "out_str = ''\n",
    "out_str = '*' * (index - 1) + sub_str + '*' * (len(str1) - (index + len(sub_str)) + 1)\n",
    "print(str1)\n",
    "print(out_str)"
   ]
  },
  {
   "cell_type": "code",
   "execution_count": 28,
   "id": "9437f058",
   "metadata": {},
   "outputs": [],
   "source": [
    "#19. Write a python program to find below output using loop:-\n",
    "\n",
    "# Input:- 'This is Python class', sep = ' is', \n",
    "# Output:- ['This', 'is', 'Python class']"
   ]
  },
  {
   "cell_type": "code",
   "execution_count": 3,
   "id": "733aab8f",
   "metadata": {},
   "outputs": [
    {
     "name": "stdout",
     "output_type": "stream",
     "text": [
      "['This', 'is', 'Python class']\n"
     ]
    }
   ],
   "source": [
    "my_str = 'This is Python class'\n",
    "sep = ' is'\n",
    "out = []\n",
    "i = 0\n",
    "index = 0\n",
    "while i < len(my_str):\n",
    "    if my_str[i:i+len(sep)] == sep:\n",
    "        out.append(my_str[index:i])\n",
    "        out.append(sep.strip())\n",
    "        index = i + len(sep)\n",
    "        \n",
    "    i += 1\n",
    "out.append(my_str[index:i].strip())\n",
    "print(out)"
   ]
  },
  {
   "cell_type": "code",
   "execution_count": null,
   "id": "a3eadac4",
   "metadata": {},
   "outputs": [],
   "source": []
  },
  {
   "cell_type": "code",
   "execution_count": null,
   "id": "f5ae2ca4",
   "metadata": {},
   "outputs": [],
   "source": []
  }
 ],
 "metadata": {
  "kernelspec": {
   "display_name": "Python 3 (ipykernel)",
   "language": "python",
   "name": "python3"
  },
  "language_info": {
   "codemirror_mode": {
    "name": "ipython",
    "version": 3
   },
   "file_extension": ".py",
   "mimetype": "text/x-python",
   "name": "python",
   "nbconvert_exporter": "python",
   "pygments_lexer": "ipython3",
   "version": "3.9.12"
  }
 },
 "nbformat": 4,
 "nbformat_minor": 5
}
